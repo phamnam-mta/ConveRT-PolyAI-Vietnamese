{
 "cells": [
  {
   "cell_type": "code",
   "execution_count": 5,
   "id": "2703d95c",
   "metadata": {},
   "outputs": [
    {
     "data": {
      "text/plain": [
       "356959"
      ]
     },
     "execution_count": 5,
     "metadata": {},
     "output_type": "execute_result"
    }
   ],
   "source": [
    "import json\n",
    " \n",
    "with open(\"data_filtered.json\", \"r\") as file:\n",
    "    data = json.load(file)\n",
    "len(data)"
   ]
  },
  {
   "cell_type": "code",
   "execution_count": 6,
   "id": "8546132b",
   "metadata": {},
   "outputs": [
    {
     "data": {
      "text/plain": [
       "dict_keys(['thread_name', 'quotes', 'replies'])"
      ]
     },
     "execution_count": 6,
     "metadata": {},
     "output_type": "execute_result"
    }
   ],
   "source": [
    "data[0].keys()"
   ]
  },
  {
   "cell_type": "code",
   "execution_count": 7,
   "id": "a83080be",
   "metadata": {},
   "outputs": [],
   "source": [
    "import re\n",
    "def tokenzenize_prunc(text):\n",
    "    text = re.sub('(?<=\\w)\\.', ' . ', text)\n",
    "    text = re.sub('(?<=\\w),', ' , ', text)\n",
    "    text = re.sub('(?<=\\w)\\?', ' ? ', text)\n",
    "    text = re.sub('(?<=\\w)!', ' ! ', text)\n",
    "    text = re.sub('(?<=\\w):', ' : ', text)\n",
    "    return text"
   ]
  },
  {
   "cell_type": "code",
   "execution_count": null,
   "id": "fb9b9758",
   "metadata": {},
   "outputs": [],
   "source": [
    "sample_data = []\n",
    "qoutes_dictionary = []\n",
    "i =0\n",
    "for d in data:\n",
    "    i+=1\n",
    "    print(i)\n",
    "    thread_name = d.get(\"thread_name\")\n",
    "    quotes = d.get(\"quotes\")\n",
    "    replies = d.get(\"replies\")\n",
    "    if quotes and len(quotes) <=3:\n",
    "        quotes_str = \" \".join(quotes)\n",
    "        if quotes_str not in qoutes_dictionary:\n",
    "            qoutes_dictionary.append(quotes_str)\n",
    "            sample_data.append({\n",
    "                \"thread_name\": tokenzenize_prunc(thread_name).strip(),\n",
    "                \"quotes\": [tokenzenize_prunc(q).strip() for q in quotes],\n",
    "                \"replies\": [tokenzenize_prunc(q).strip() for q in replies]\n",
    "            })\n",
    "    "
   ]
  },
  {
   "cell_type": "code",
   "execution_count": 11,
   "id": "57eae73a",
   "metadata": {},
   "outputs": [
    {
     "name": "stdout",
     "output_type": "stream",
     "text": [
      "129359\n",
      "{'thread_name': 'Tổng hợp thông tin(rò rỉ & độ chính xác cao về Hàng nóng sắp về Redmi K40 series', 'quotes': ['Cũng đc có điều cam sau nhìn như hạch'], 'replies': ['Dùng gcam thì có thua con nào cùng tầm giá đâu nhỉ']}\n"
     ]
    }
   ],
   "source": [
    "print(len(sample_data))\n",
    "print(sample_data[10])"
   ]
  },
  {
   "cell_type": "code",
   "execution_count": 10,
   "id": "146bd96e",
   "metadata": {},
   "outputs": [],
   "source": [
    "import random\n",
    "random.shuffle(sample_data)"
   ]
  },
  {
   "cell_type": "code",
   "execution_count": 12,
   "id": "83e2f6d5",
   "metadata": {},
   "outputs": [],
   "source": [
    "test = sample_data[0:25872]\n",
    "with open(\"test.json\", \"w\") as file:\n",
    "    json.dump(test, file, ensure_ascii=False)"
   ]
  },
  {
   "cell_type": "code",
   "execution_count": 13,
   "id": "bfd1574b",
   "metadata": {},
   "outputs": [],
   "source": [
    "train = sample_data[25872:129359]\n",
    "with open(\"train.json\", \"w\") as file:\n",
    "    json.dump(train, file, ensure_ascii=False)"
   ]
  },
  {
   "cell_type": "code",
   "execution_count": null,
   "id": "9e61afab",
   "metadata": {},
   "outputs": [],
   "source": []
  }
 ],
 "metadata": {
  "kernelspec": {
   "display_name": "Python 3",
   "language": "python",
   "name": "python3"
  },
  "language_info": {
   "codemirror_mode": {
    "name": "ipython",
    "version": 3
   },
   "file_extension": ".py",
   "mimetype": "text/x-python",
   "name": "python",
   "nbconvert_exporter": "python",
   "pygments_lexer": "ipython3",
   "version": "3.7.10"
  }
 },
 "nbformat": 4,
 "nbformat_minor": 5
}
